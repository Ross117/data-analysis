{
 "cells": [
  {
   "cell_type": "code",
   "execution_count": 1,
   "id": "61408d16",
   "metadata": {},
   "outputs": [],
   "source": [
    "import pandas as pd\n",
    "import re\n",
    "import numpy as np"
   ]
  },
  {
   "cell_type": "code",
   "execution_count": 2,
   "id": "19866a25",
   "metadata": {},
   "outputs": [],
   "source": [
    "pd.options.mode.chained_assignment = None"
   ]
  },
  {
   "cell_type": "code",
   "execution_count": 3,
   "id": "da35f486",
   "metadata": {},
   "outputs": [],
   "source": [
    "df = pd.read_csv(\"Preppin' Summer 2022 - PD 2022 Wk 27 Input.csv\")"
   ]
  },
  {
   "cell_type": "code",
   "execution_count": 4,
   "id": "28d6a470",
   "metadata": {},
   "outputs": [],
   "source": [
    "df['Product_Type'] = df['Product Name'].str.split(' - ').str[0]\n",
    "df['Quantity'] = df['Product Name'].str.split(' - ').str[1]"
   ]
  },
  {
   "cell_type": "code",
   "execution_count": 5,
   "id": "d06af15f",
   "metadata": {},
   "outputs": [],
   "source": [
    "df_bar = df.query(\"Product_Type == 'Bar'\")\n",
    "df_liquid = df.query(\"Product_Type == 'Liquid'\")"
   ]
  },
  {
   "cell_type": "code",
   "execution_count": 6,
   "id": "8763e9d5",
   "metadata": {},
   "outputs": [],
   "source": [
    "def just_numbers(val):\n",
    "    regex = re.compile('\\d+')\n",
    "\n",
    "    num = regex.match(val)\n",
    "\n",
    "    return num.group()"
   ]
  },
  {
   "cell_type": "code",
   "execution_count": 7,
   "id": "a928cc6d",
   "metadata": {},
   "outputs": [],
   "source": [
    "df_bar['Quantity'] = df_bar['Quantity'].map(just_numbers)\n",
    "df_liquid['Quantity'] = df_liquid['Quantity'].map(just_numbers)"
   ]
  },
  {
   "cell_type": "code",
   "execution_count": 8,
   "id": "a7369a7a",
   "metadata": {},
   "outputs": [],
   "source": [
    "df_liquid['Quantity'] = np.where(df_liquid['Quantity'] == '1', '1000', df_liquid['Quantity'])"
   ]
  },
  {
   "cell_type": "code",
   "execution_count": 10,
   "id": "17e9eaee",
   "metadata": {},
   "outputs": [
    {
     "data": {
      "text/plain": [
       "pandas.core.frame.DataFrame"
      ]
     },
     "execution_count": 10,
     "metadata": {},
     "output_type": "execute_result"
    }
   ],
   "source": [
    "df_bar = df_bar.groupby(['Store Name', 'Region', 'Quantity']).agg({'Sale Value':'sum', 'Order ID':'nunique'})\n",
    "df_liquid.groupby(['Store Name', 'Region', 'Quantity']).agg({'Sale Value':'sum', 'Order ID':'nunique'})"
   ]
  },
  {
   "cell_type": "code",
   "execution_count": null,
   "id": "20d8b6af",
   "metadata": {},
   "outputs": [],
   "source": []
  }
 ],
 "metadata": {
  "kernelspec": {
   "display_name": "Python 3.8.8 ('base')",
   "language": "python",
   "name": "python3"
  },
  "language_info": {
   "codemirror_mode": {
    "name": "ipython",
    "version": 3
   },
   "file_extension": ".py",
   "mimetype": "text/x-python",
   "name": "python",
   "nbconvert_exporter": "python",
   "pygments_lexer": "ipython3",
   "version": "3.8.8"
  },
  "vscode": {
   "interpreter": {
    "hash": "0b0ce520551dc8103cdfc18ddf1afb9e3b8ed99680509c491bcb31bbf257bdbf"
   }
  }
 },
 "nbformat": 4,
 "nbformat_minor": 5
}
